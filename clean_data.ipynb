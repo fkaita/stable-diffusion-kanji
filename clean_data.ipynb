{
 "cells": [
  {
   "cell_type": "code",
   "execution_count": null,
   "metadata": {},
   "outputs": [],
   "source": [
    "!pip uninstall cairosvg"
   ]
  },
  {
   "cell_type": "markdown",
   "metadata": {},
   "source": [
    "### Extract data\n"
   ]
  },
  {
   "cell_type": "code",
   "execution_count": null,
   "metadata": {},
   "outputs": [],
   "source": [
    "import os\n",
    "import xml.etree.ElementTree as ET\n",
    "import pandas as pd\n",
    "\n",
    "# Path to the input XML file\n",
    "input_file = \"data/kanjivg-20240807.xml\"\n",
    "\n",
    "# Parse the XML file\n",
    "tree = ET.parse(input_file)\n",
    "root = tree.getroot()\n",
    "\n",
    "namespaces = {\"kvg\": \"http://kanjivg.tagaini.net\"}\n",
    "\n",
    "# List to store data\n",
    "data = []\n",
    "\n",
    "def extract_paths(kanji_id, element, g_element):\n",
    "    \"\"\"Recursively extract paths and data from <g> elements.\"\"\"\n",
    "    for path in g_element.findall(\"path\", namespaces):\n",
    "        path_id = path.attrib.get(\"id\", \"\")\n",
    "        path_type = path.attrib.get(\"{http://kanjivg.tagaini.net}type\", \"\")\n",
    "        path_d = path.attrib.get(\"d\", \"\")\n",
    "        \n",
    "        # Append data to the list\n",
    "        data.append({\n",
    "            \"kanji_id\": kanji_id,\n",
    "            \"element\": element,\n",
    "            \"path_id\": path_id,\n",
    "            \"type\": path_type,\n",
    "            \"svg_path\": path_d\n",
    "        })\n",
    "    \n",
    "    # Recursively process nested <g> elements\n",
    "    for nested_g in g_element.findall(\"g\", namespaces):\n",
    "        extract_paths(kanji_id, element, nested_g)\n",
    "\n",
    "# Iterate through each <kanji> element\n",
    "for kanji in root.findall(\"kanji\"):\n",
    "    kanji_id = kanji.get(\"id\", \"\")  # Extract kanji ID\n",
    "    \n",
    "    # Find the first <g> element under the <kanji>\n",
    "    first_g = kanji.find(\"g\", namespaces)\n",
    "    if first_g is not None:\n",
    "        element = first_g.attrib.get(\"{http://kanjivg.tagaini.net}element\", \"\")\n",
    "        \n",
    "        # Extract paths recursively\n",
    "        extract_paths(kanji_id, element, first_g)\n",
    "\n",
    "# Convert the list of dictionaries into a Pandas DataFrame\n",
    "df1 = pd.DataFrame(data)\n",
    "\n",
    "# Display the first few rows\n",
    "print(df1[\"kanji_id\"].unique().size)\n",
    "df1.head()\n"
   ]
  },
  {
   "cell_type": "code",
   "execution_count": null,
   "metadata": {},
   "outputs": [],
   "source": [
    "df[df.kanji_id==\"kvg:kanji_07f6b\"]"
   ]
  },
  {
   "cell_type": "code",
   "execution_count": null,
   "metadata": {},
   "outputs": [],
   "source": [
    "from IPython.display import SVG, display\n",
    "\n",
    "id = df[\"kanji_id\"][29568]\n",
    "\n",
    "# Path to your SVG file\n",
    "svg_file_path = f\"data/kanji_svgs/{id}.svg\"\n",
    "\n",
    "# Display the SVG\n",
    "# display(SVG(svg_file_path), metadata={\"width\": \"20px\", \"height\": \"20px\"})\n"
   ]
  },
  {
   "cell_type": "code",
   "execution_count": null,
   "metadata": {},
   "outputs": [],
   "source": [
    "# Save to svg file\n",
    "\n",
    "import os\n",
    "import xml.etree.ElementTree as ET\n",
    "\n",
    "# Path to the XML file and output directory\n",
    "xml_file = \"data/kanjivg-20240807.xml\"  # Path to your KanjiVG file\n",
    "output_dir = \"data/kanji_svgs\"  # Output directory for SVGs\n",
    "\n",
    "# Ensure output directory exists\n",
    "os.makedirs(output_dir, exist_ok=True)\n",
    "\n",
    "# Define SVG namespace\n",
    "svg_namespace = \"http://www.w3.org/2000/svg\"\n",
    "xlink_namespace = \"http://www.w3.org/1999/xlink\"\n",
    "\n",
    "# Register namespaces\n",
    "ET.register_namespace(\"\", svg_namespace)\n",
    "ET.register_namespace(\"xlink\", xlink_namespace)\n",
    "\n",
    "# Parse the XML file\n",
    "tree = ET.parse(xml_file)\n",
    "root = tree.getroot()\n",
    "\n",
    "# Iterate through all <kanji> elements\n",
    "for kanji in root.findall(\"kanji\"):\n",
    "    kanji_id = kanji.attrib['id']  # Get the kanji Unicode ID\n",
    "    svg_content = [\n",
    "        f'<svg xmlns=\"{svg_namespace}\" xmlns:xlink=\"{xlink_namespace}\" viewBox=\"0 0 109 109\">',\n",
    "        '<style>',\n",
    "        'path { fill: none; stroke: black; stroke-width: 3; stroke-linecap: round; stroke-linejoin: round; }',\n",
    "        '</style>'\n",
    "    ]\n",
    "\n",
    "    # Append all child elements (<g>, <path>, etc.) with full attributes\n",
    "    for element in kanji:\n",
    "        svg_content.append(ET.tostring(element, encoding='unicode'))\n",
    "\n",
    "    svg_content.append(\"</svg>\")\n",
    "\n",
    "    # Write the SVG to an output file\n",
    "    output_path = os.path.join(output_dir, f\"{kanji_id}.svg\")\n",
    "    with open(output_path, \"w\", encoding=\"utf-8\") as svg_file:\n",
    "        svg_file.write(\"\\n\".join(svg_content))\n",
    "\n",
    "print(f\"SVG files saved in {output_dir}\")\n"
   ]
  },
  {
   "cell_type": "code",
   "execution_count": null,
   "metadata": {},
   "outputs": [],
   "source": [
    "# Path to the input XML file\n",
    "input_file = \"data/kanjidic2.xml\"\n",
    "\n",
    "# Parse the XML file\n",
    "tree = ET.parse(input_file)\n",
    "root = tree.getroot()\n",
    "\n",
    "# List to store extracted data\n",
    "kanji_data = []\n",
    "\n",
    "# Iterate through each <character> element\n",
    "for character in root.findall(\"character\"):\n",
    "    # Extract basic information\n",
    "    literal = character.findtext(\"literal\", default=\"\")\n",
    "    ucs = character.find(\"codepoint/cp_value[@cp_type='ucs']\").text if character.find(\"codepoint/cp_value[@cp_type='ucs']\") else \"\"\n",
    "    jis208 = character.find(\"codepoint/cp_value[@cp_type='jis208']\").text if character.find(\"codepoint/cp_value[@cp_type='jis208']\") else \"\"\n",
    "    grade = character.find(\"misc/grade\").text if character.find(\"misc/grade\") else \"\"\n",
    "    stroke_count = character.find(\"misc/stroke_count\").text if character.find(\"misc/stroke_count\") else \"\"\n",
    "    freq = character.find(\"misc/freq\").text if character.find(\"misc/freq\") else \"\"\n",
    "    jlpt = character.find(\"misc/jlpt\").text if character.find(\"misc/jlpt\") else \"\"\n",
    "    \n",
    "    # Extract meanings\n",
    "    meanings = [meaning.text for meaning in character.findall(\"reading_meaning/rmgroup/meaning\") if not meaning.attrib]\n",
    "    \n",
    "    # Extract readings\n",
    "    readings_on = [reading.text for reading in character.findall(\"reading_meaning/rmgroup/reading[@r_type='ja_on']\")]\n",
    "    readings_kun = [reading.text for reading in character.findall(\"reading_meaning/rmgroup/reading[@r_type='ja_kun']\")]\n",
    "    \n",
    "    # Store the data in a dictionary\n",
    "    kanji_info = {\n",
    "        \"literal\": literal,\n",
    "        \"ucs\": ucs,\n",
    "        \"jis208\": jis208,\n",
    "        \"grade\": grade,\n",
    "        \"stroke_count\": stroke_count,\n",
    "        \"frequency\": freq,\n",
    "        \"jlpt\": jlpt,\n",
    "        \"meanings\": \", \".join(meanings),\n",
    "        \"readings_on\": \", \".join(readings_on),\n",
    "        \"readings_kun\": \", \".join(readings_kun),\n",
    "    }\n",
    "    kanji_data.append(kanji_info)\n",
    "\n",
    "# Convert the list of dictionaries to a Pandas DataFrame\n",
    "df2 = pd.DataFrame(kanji_data)\n",
    "\n",
    "df2.head(20)\n",
    "df2.info()"
   ]
  },
  {
   "cell_type": "code",
   "execution_count": null,
   "metadata": {},
   "outputs": [],
   "source": [
    "df1 = df1[[\"kanji_id\", \"element\"]]\n",
    "df1_cleaned = df1.drop_duplicates()\n",
    "df1_cleaned = df1_cleaned.rename(columns={\"element\":\"literal\"})\n",
    "\n",
    "df = pd.merge(df1_cleaned, df2, how=\"inner\", on=\"literal\")\n",
    "df[[\"kanji_id\", \"literal\", \"meanings\"]]"
   ]
  },
  {
   "cell_type": "code",
   "execution_count": null,
   "metadata": {},
   "outputs": [],
   "source": [
    "# Convert svg into png\n",
    "import os\n",
    "import subprocess\n",
    "\n",
    "# Input and output directories\n",
    "input_dir = \"data/kanji_svgs\"  # Directory containing SVG files\n",
    "output_dir = \"data/kanji_pngs\"  # Directory for converted images\n",
    "os.makedirs(output_dir, exist_ok=True)\n",
    "\n",
    "# Batch conversion using rsvg-convert\n",
    "for svg_file in os.listdir(input_dir):\n",
    "    if svg_file.endswith(\".svg\"):\n",
    "        input_path = os.path.join(input_dir, svg_file)\n",
    "        output_path = os.path.join(output_dir, os.path.splitext(svg_file)[0] + \".png\")\n",
    "        \n",
    "        # Run rsvg-convert command\n",
    "        subprocess.run([\"rsvg-convert\", \"-w\", \"128\", \"-h\", \"128\", input_path, \"-o\", output_path])\n",
    "        print(f\"Converted: {svg_file} -> {output_path}\")"
   ]
  },
  {
   "cell_type": "code",
   "execution_count": null,
   "metadata": {},
   "outputs": [],
   "source": [
    "df[\"file_path\"] = \"images/\" + df[\"kanji_id\"] + \".png\"\n",
    "df = df.rename(columns={\"meanings\":\"caption\"})\n",
    "df[[\"file_path\", \"caption\"]]\n"
   ]
  },
  {
   "cell_type": "code",
   "execution_count": null,
   "metadata": {},
   "outputs": [],
   "source": [
    "# Check if each file exists\n",
    "df[\"file_exists\"] = df[\"file_path\"].apply(lambda x: os.path.exists(\"data/dataset/\"+x))\n",
    "df[~df.file_exists]"
   ]
  },
  {
   "cell_type": "code",
   "execution_count": null,
   "metadata": {},
   "outputs": [],
   "source": [
    "# Export to a JSONL file\n",
    "output_file = \"data/dataset/captions.jsonl\"\n",
    "df[[\"file_path\", \"caption\"]].to_json(output_file, orient=\"records\", lines=True)\n",
    "\n",
    "print(f\"DataFrame exported to {output_file}\")"
   ]
  },
  {
   "cell_type": "code",
   "execution_count": null,
   "metadata": {},
   "outputs": [],
   "source": [
    "# Read the JSONL file back into a DataFrame\n",
    "df_loaded = pd.read_json(output_file, orient=\"records\", lines=True)\n",
    "print(df_loaded)\n"
   ]
  },
  {
   "cell_type": "code",
   "execution_count": null,
   "metadata": {},
   "outputs": [],
   "source": [
    "from IPython.display import Image, display\n",
    "\n",
    "# Path to your PNG file\n",
    "png_file_path = \"data/dataset/images/kvg:kanji_09fa0.png\"\n",
    "\n",
    "# Display the image\n",
    "display(Image(filename=png_file_path))\n"
   ]
  },
  {
   "cell_type": "code",
   "execution_count": null,
   "metadata": {},
   "outputs": [],
   "source": []
  }
 ],
 "metadata": {
  "kernelspec": {
   "display_name": "stable-diffusion-kanji-5un6CDl7",
   "language": "python",
   "name": "python3"
  },
  "language_info": {
   "codemirror_mode": {
    "name": "ipython",
    "version": 3
   },
   "file_extension": ".py",
   "mimetype": "text/x-python",
   "name": "python",
   "nbconvert_exporter": "python",
   "pygments_lexer": "ipython3",
   "version": "3.9.6"
  }
 },
 "nbformat": 4,
 "nbformat_minor": 2
}
